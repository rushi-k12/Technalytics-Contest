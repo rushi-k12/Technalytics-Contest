{
  "nbformat": 4,
  "nbformat_minor": 0,
  "metadata": {
    "colab": {
      "provenance": [],
      "authorship_tag": "ABX9TyPBIvHbHMA3bRf+TDiGVgVO",
      "include_colab_link": true
    },
    "kernelspec": {
      "name": "python3",
      "display_name": "Python 3"
    },
    "language_info": {
      "name": "python"
    }
  },
  "cells": [
    {
      "cell_type": "markdown",
      "metadata": {
        "id": "view-in-github",
        "colab_type": "text"
      },
      "source": [
        "<a href=\"https://colab.research.google.com/github/rushi-k12/Technalytics-Contest/blob/main/Technalytics.ipynb\" target=\"_parent\"><img src=\"https://colab.research.google.com/assets/colab-badge.svg\" alt=\"Open In Colab\"/></a>"
      ]
    },
    {
      "cell_type": "code",
      "source": [
        "import pandas as pd\n",
        "from sklearn.ensemble import RandomForestClassifier\n",
        "from sklearn.metrics import accuracy_score, classification_report\n",
        "\n",
        "# Load train and test datasets\n",
        "train_df = pd.read_csv(\"/content/train.csv\")\n",
        "test_df = pd.read_csv(\"/content/test.csv\")\n",
        "\n",
        "# Handle missing values\n",
        "train_df.fillna(0, inplace=True)  # Fill missing values with 0, you might need more sophisticated strategies\n",
        "test_df.fillna(0, inplace=True)\n",
        "\n",
        "# Drop 'SPDCASENO' column\n",
        "X_train = train_df.drop(columns=['SPDCASENO', 'COLLISIONTYPE'])  # Features\n",
        "y_train = train_df['COLLISIONTYPE']  # Target variable\n",
        "X_test = test_df.drop(columns=['SPDCASENO', 'COLLISIONTYPE'])  # Features\n",
        "y_test = test_df['COLLISIONTYPE']  # Target variable\n",
        "\n",
        "# Convert non-numeric columns to numeric using one-hot encoding\n",
        "X_train = pd.get_dummies(X_train)\n",
        "X_test = pd.get_dummies(X_test)\n",
        "\n",
        "# Align the columns of X_train and X_test\n",
        "X_train, X_test = X_train.align(X_test, join='outer', axis=1, fill_value=0)\n",
        "\n",
        "# Train the model\n",
        "rf_model = RandomForestClassifier(n_estimators=100, random_state=42)\n",
        "rf_model.fit(X_train, y_train)\n",
        "\n",
        "# Make predictions on the test data\n",
        "y_pred = rf_model.predict(X_test)\n",
        "\n",
        "# Evaluate the model\n",
        "accuracy = accuracy_score(y_test, y_pred)\n",
        "print(\"Accuracy:\", accuracy)\n",
        "\n",
        "# Generate classification report\n",
        "print(\"Classification Report:\")\n",
        "print(classification_report(y_test, y_pred))\n"
      ],
      "metadata": {
        "colab": {
          "base_uri": "https://localhost:8080/"
        },
        "id": "DBJiTFVaKzYa",
        "outputId": "ae955ee9-94ce-4cd6-cc6a-0d7c2437e155"
      },
      "execution_count": null,
      "outputs": [
        {
          "output_type": "stream",
          "name": "stdout",
          "text": [
            "Accuracy: 0.5977059436913451\n",
            "Classification Report:\n",
            "              precision    recall  f1-score   support\n",
            "\n",
            "      Angles       0.57      0.87      0.69      7935\n",
            "      Cycles       1.00      1.00      1.00      1387\n",
            "     Head On       0.09      0.00      0.01       493\n",
            "   Left Turn       0.25      0.03      0.05      3143\n",
            "  Parked Car       0.59      0.76      0.66      7261\n",
            "  Pedestrian       0.99      1.00      0.99      1745\n",
            "  Rear Ended       0.55      0.56      0.56      6962\n",
            "  Right Turn       0.00      0.00      0.00       656\n",
            "   Sideswipe       0.33      0.13      0.19      3983\n",
            "\n",
            "    accuracy                           0.60     33565\n",
            "   macro avg       0.49      0.48      0.46     33565\n",
            "weighted avg       0.53      0.60      0.54     33565\n",
            "\n"
          ]
        }
      ]
    },
    {
      "cell_type": "code",
      "source": [
        "import pandas as pd\n",
        "from sklearn.metrics import accuracy_score, classification_report\n",
        "from sklearn.preprocessing import LabelEncoder\n",
        "from xgboost import XGBClassifier\n",
        "\n",
        "# Load train and test datasets\n",
        "train_df = pd.read_csv(\"/content/train.csv\")\n",
        "test_df = pd.read_csv(\"/content/test.csv\")\n",
        "\n",
        "# Handle missing values\n",
        "train_df.fillna(0, inplace=True)  # Fill missing values with 0, you might need more sophisticated strategies\n",
        "test_df.fillna(0, inplace=True)\n",
        "\n",
        "# Drop 'SPDCASENO' column\n",
        "X_train = train_df.drop(columns=['SPDCASENO', 'COLLISIONTYPE'])  # Features\n",
        "y_train = train_df['COLLISIONTYPE']  # Target variable\n",
        "X_test = test_df.drop(columns=['SPDCASENO', 'COLLISIONTYPE'])  # Features\n",
        "y_test = test_df['COLLISIONTYPE']  # Target variable\n",
        "\n",
        "# Convert non-numeric columns to numeric using one-hot encoding\n",
        "X_train = pd.get_dummies(X_train)\n",
        "X_test = pd.get_dummies(X_test)\n",
        "\n",
        "# Align the columns of X_train and X_test\n",
        "X_train, X_test = X_train.align(X_test, join='outer', axis=1, fill_value=0)\n",
        "\n",
        "# Encode the target variable\n",
        "label_encoder = LabelEncoder()\n",
        "y_train_encoded = label_encoder.fit_transform(y_train)\n",
        "y_test_encoded = label_encoder.transform(y_test)\n",
        "\n",
        "# Train the XGBoost model\n",
        "xgb_model = XGBClassifier(n_estimators=100, random_state=42)\n",
        "xgb_model.fit(X_train, y_train_encoded)\n",
        "\n",
        "# Make predictions on the test data\n",
        "y_pred = xgb_model.predict(X_test)\n",
        "\n",
        "# Evaluate the model\n",
        "accuracy = accuracy_score(y_test_encoded, y_pred)\n",
        "print(\"Accuracy:\", accuracy)\n",
        "\n",
        "# Generate classification report\n",
        "print(\"Classification Report:\")\n",
        "print(classification_report(y_test_encoded, y_pred))\n"
      ],
      "metadata": {
        "colab": {
          "base_uri": "https://localhost:8080/"
        },
        "id": "gGdIstfZMjw_",
        "outputId": "71c7f81e-4e6a-4dd5-ec98-d85b06af8b54"
      },
      "execution_count": null,
      "outputs": [
        {
          "output_type": "stream",
          "name": "stdout",
          "text": [
            "Accuracy: 0.6288395650230896\n",
            "Classification Report:\n",
            "              precision    recall  f1-score   support\n",
            "\n",
            "           0       0.59      0.88      0.70      7935\n",
            "           1       1.00      1.00      1.00      1387\n",
            "           2       0.52      0.02      0.04       493\n",
            "           3       0.51      0.06      0.10      3143\n",
            "           4       0.64      0.80      0.71      7261\n",
            "           5       0.99      0.99      0.99      1745\n",
            "           6       0.59      0.61      0.60      6962\n",
            "           7       0.20      0.00      0.00       656\n",
            "           8       0.41      0.20      0.27      3983\n",
            "\n",
            "    accuracy                           0.63     33565\n",
            "   macro avg       0.61      0.51      0.49     33565\n",
            "weighted avg       0.60      0.63      0.58     33565\n",
            "\n"
          ]
        }
      ]
    },
    {
      "cell_type": "code",
      "source": [
        "import pandas as pd\n",
        "\n",
        "predictions_df = pd.DataFrame({'y': y_pred})\n",
        "\n",
        "predictions_df.to_csv('Team__predictions.csv', index=False)\n"
      ],
      "metadata": {
        "id": "8hzrtdqLOZk4"
      },
      "execution_count": null,
      "outputs": []
    },
    {
      "cell_type": "code",
      "source": [],
      "metadata": {
        "id": "LEdniQDhSB3i"
      },
      "execution_count": null,
      "outputs": []
    }
  ]
}